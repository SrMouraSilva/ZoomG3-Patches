{
 "cells": [
  {
   "cell_type": "code",
   "execution_count": 1,
   "metadata": {},
   "outputs": [],
   "source": [
    "import pandas as pd"
   ]
  },
  {
   "cell_type": "code",
   "execution_count": 2,
   "metadata": {},
   "outputs": [
    {
     "name": "stdout",
     "output_type": "stream",
     "text": [
      "Total of patches: 5123\n"
     ]
    },
    {
     "data": {
      "text/html": [
       "<div>\n",
       "<style scoped>\n",
       "    .dataframe tbody tr th:only-of-type {\n",
       "        vertical-align: middle;\n",
       "    }\n",
       "\n",
       "    .dataframe tbody tr th {\n",
       "        vertical-align: top;\n",
       "    }\n",
       "\n",
       "    .dataframe thead th {\n",
       "        text-align: right;\n",
       "    }\n",
       "</style>\n",
       "<table border=\"1\" class=\"dataframe\">\n",
       "  <thead>\n",
       "    <tr style=\"text-align: right;\">\n",
       "      <th></th>\n",
       "      <th></th>\n",
       "      <th>plugin1</th>\n",
       "      <th>plugin2</th>\n",
       "      <th>plugin3</th>\n",
       "      <th>plugin4</th>\n",
       "      <th>plugin5</th>\n",
       "      <th>plugin6</th>\n",
       "    </tr>\n",
       "    <tr>\n",
       "      <th>id</th>\n",
       "      <th>name</th>\n",
       "      <th></th>\n",
       "      <th></th>\n",
       "      <th></th>\n",
       "      <th></th>\n",
       "      <th></th>\n",
       "      <th></th>\n",
       "    </tr>\n",
       "  </thead>\n",
       "  <tbody>\n",
       "    <tr>\n",
       "      <th>5299</th>\n",
       "      <th>plexi*dly*</th>\n",
       "      <td>74</td>\n",
       "      <td>102</td>\n",
       "      <td>55</td>\n",
       "      <td>NaN</td>\n",
       "      <td>NaN</td>\n",
       "      <td>NaN</td>\n",
       "    </tr>\n",
       "    <tr>\n",
       "      <th>5300</th>\n",
       "      <th>HB*Boston3</th>\n",
       "      <td>31</td>\n",
       "      <td>102</td>\n",
       "      <td>33</td>\n",
       "      <td>NaN</td>\n",
       "      <td>NaN</td>\n",
       "      <td>NaN</td>\n",
       "    </tr>\n",
       "    <tr>\n",
       "      <th>5301</th>\n",
       "      <th>_Clean****</th>\n",
       "      <td>24</td>\n",
       "      <td>31</td>\n",
       "      <td>28</td>\n",
       "      <td>NaN</td>\n",
       "      <td>NaN</td>\n",
       "      <td>NaN</td>\n",
       "    </tr>\n",
       "    <tr>\n",
       "      <th>5302</th>\n",
       "      <th>_Battles**</th>\n",
       "      <td>72</td>\n",
       "      <td>107</td>\n",
       "      <td>7</td>\n",
       "      <td>NaN</td>\n",
       "      <td>NaN</td>\n",
       "      <td>NaN</td>\n",
       "    </tr>\n",
       "    <tr>\n",
       "      <th>5303</th>\n",
       "      <th>_2tone****</th>\n",
       "      <td>72</td>\n",
       "      <td>57</td>\n",
       "      <td>96</td>\n",
       "      <td>NaN</td>\n",
       "      <td>NaN</td>\n",
       "      <td>NaN</td>\n",
       "    </tr>\n",
       "  </tbody>\n",
       "</table>\n",
       "</div>"
      ],
      "text/plain": [
       "                 plugin1  plugin2  plugin3  plugin4  plugin5  plugin6\n",
       "id   name                                                            \n",
       "5299 plexi*dly*       74      102       55      NaN      NaN      NaN\n",
       "5300 HB*Boston3       31      102       33      NaN      NaN      NaN\n",
       "5301 _Clean****       24       31       28      NaN      NaN      NaN\n",
       "5302 _Battles**       72      107        7      NaN      NaN      NaN\n",
       "5303 _2tone****       72       57       96      NaN      NaN      NaN"
      ]
     },
     "execution_count": 2,
     "metadata": {},
     "output_type": "execute_result"
    }
   ],
   "source": [
    "d = pd.read_csv('data/patches.csv', index_col=['id', 'name'])\n",
    "print('Total of patches:', len(d))\n",
    "\n",
    "d.head()"
   ]
  },
  {
   "cell_type": "markdown",
   "metadata": {},
   "source": [
    "## Remove patches from Zoom G3 v1"
   ]
  },
  {
   "cell_type": "code",
   "execution_count": 3,
   "metadata": {},
   "outputs": [],
   "source": [
    "#d = d[d['plugin6'].notnull()]\n",
    "#print('Total of patches after remove plugins from Zoom G3 v1 (only 3 effects):', len(d))"
   ]
  },
  {
   "cell_type": "markdown",
   "metadata": {},
   "source": [
    "## Transform all presets in Zoom G3 v2"
   ]
  },
  {
   "cell_type": "code",
   "execution_count": 4,
   "metadata": {},
   "outputs": [
    {
     "data": {
      "text/html": [
       "<div>\n",
       "<style scoped>\n",
       "    .dataframe tbody tr th:only-of-type {\n",
       "        vertical-align: middle;\n",
       "    }\n",
       "\n",
       "    .dataframe tbody tr th {\n",
       "        vertical-align: top;\n",
       "    }\n",
       "\n",
       "    .dataframe thead th {\n",
       "        text-align: right;\n",
       "    }\n",
       "</style>\n",
       "<table border=\"1\" class=\"dataframe\">\n",
       "  <thead>\n",
       "    <tr style=\"text-align: right;\">\n",
       "      <th></th>\n",
       "      <th></th>\n",
       "      <th>plugin1</th>\n",
       "      <th>plugin2</th>\n",
       "      <th>plugin3</th>\n",
       "      <th>plugin4</th>\n",
       "      <th>plugin5</th>\n",
       "      <th>plugin6</th>\n",
       "    </tr>\n",
       "    <tr>\n",
       "      <th>id</th>\n",
       "      <th>name</th>\n",
       "      <th></th>\n",
       "      <th></th>\n",
       "      <th></th>\n",
       "      <th></th>\n",
       "      <th></th>\n",
       "      <th></th>\n",
       "    </tr>\n",
       "  </thead>\n",
       "  <tbody>\n",
       "    <tr>\n",
       "      <th>5299</th>\n",
       "      <th>plexi*dly*</th>\n",
       "      <td>74</td>\n",
       "      <td>102</td>\n",
       "      <td>55</td>\n",
       "      <td>107.0</td>\n",
       "      <td>107.0</td>\n",
       "      <td>107.0</td>\n",
       "    </tr>\n",
       "    <tr>\n",
       "      <th>5300</th>\n",
       "      <th>HB*Boston3</th>\n",
       "      <td>31</td>\n",
       "      <td>102</td>\n",
       "      <td>33</td>\n",
       "      <td>107.0</td>\n",
       "      <td>107.0</td>\n",
       "      <td>107.0</td>\n",
       "    </tr>\n",
       "    <tr>\n",
       "      <th>5301</th>\n",
       "      <th>_Clean****</th>\n",
       "      <td>24</td>\n",
       "      <td>31</td>\n",
       "      <td>28</td>\n",
       "      <td>107.0</td>\n",
       "      <td>107.0</td>\n",
       "      <td>107.0</td>\n",
       "    </tr>\n",
       "    <tr>\n",
       "      <th>5302</th>\n",
       "      <th>_Battles**</th>\n",
       "      <td>72</td>\n",
       "      <td>107</td>\n",
       "      <td>7</td>\n",
       "      <td>107.0</td>\n",
       "      <td>107.0</td>\n",
       "      <td>107.0</td>\n",
       "    </tr>\n",
       "    <tr>\n",
       "      <th>5303</th>\n",
       "      <th>_2tone****</th>\n",
       "      <td>72</td>\n",
       "      <td>57</td>\n",
       "      <td>96</td>\n",
       "      <td>107.0</td>\n",
       "      <td>107.0</td>\n",
       "      <td>107.0</td>\n",
       "    </tr>\n",
       "  </tbody>\n",
       "</table>\n",
       "</div>"
      ],
      "text/plain": [
       "                 plugin1  plugin2  plugin3  plugin4  plugin5  plugin6\n",
       "id   name                                                            \n",
       "5299 plexi*dly*       74      102       55    107.0    107.0    107.0\n",
       "5300 HB*Boston3       31      102       33    107.0    107.0    107.0\n",
       "5301 _Clean****       24       31       28    107.0    107.0    107.0\n",
       "5302 _Battles**       72      107        7    107.0    107.0    107.0\n",
       "5303 _2tone****       72       57       96    107.0    107.0    107.0"
      ]
     },
     "execution_count": 4,
     "metadata": {},
     "output_type": "execute_result"
    }
   ],
   "source": [
    "d = d.fillna(107)\n",
    "d.head()"
   ]
  },
  {
   "cell_type": "markdown",
   "metadata": {},
   "source": [
    "## Move all 'None' to right"
   ]
  },
  {
   "cell_type": "code",
   "execution_count": 5,
   "metadata": {},
   "outputs": [],
   "source": [
    "def swap_function(i=1):\n",
    "    def swap(x):\n",
    "        if x[f'plugin{i}'] == 107:\n",
    "            x[f'plugin{i}'], x[f'plugin{i+1}'] = x[f'plugin{i+1}'], x[f'plugin{i}']\n",
    "\n",
    "        return x\n",
    "\n",
    "    return swap\n",
    "\n",
    "for i in range(1, 7-1):\n",
    "    for i in range(1, 7-1):\n",
    "        d = d.apply(swap_function(i), axis=1)"
   ]
  },
  {
   "cell_type": "code",
   "execution_count": 6,
   "metadata": {},
   "outputs": [
    {
     "data": {
      "text/plain": [
       "[1514, 1558, 1649, 2197, 2862, 3487]"
      ]
     },
     "execution_count": 6,
     "metadata": {},
     "output_type": "execute_result"
    }
   ],
   "source": [
    "[len(d[d[f'plugin{i}'] == 107]) for i in range(1, 7)]"
   ]
  },
  {
   "cell_type": "markdown",
   "metadata": {},
   "source": [
    "## Remove all presets with only one or two plugins"
   ]
  },
  {
   "cell_type": "code",
   "execution_count": 7,
   "metadata": {},
   "outputs": [
    {
     "name": "stdout",
     "output_type": "stream",
     "text": [
      "Total of patches with more then two plugins: 3474\n"
     ]
    },
    {
     "data": {
      "text/html": [
       "<div>\n",
       "<style scoped>\n",
       "    .dataframe tbody tr th:only-of-type {\n",
       "        vertical-align: middle;\n",
       "    }\n",
       "\n",
       "    .dataframe tbody tr th {\n",
       "        vertical-align: top;\n",
       "    }\n",
       "\n",
       "    .dataframe thead th {\n",
       "        text-align: right;\n",
       "    }\n",
       "</style>\n",
       "<table border=\"1\" class=\"dataframe\">\n",
       "  <thead>\n",
       "    <tr style=\"text-align: right;\">\n",
       "      <th></th>\n",
       "      <th></th>\n",
       "      <th>plugin1</th>\n",
       "      <th>plugin2</th>\n",
       "      <th>plugin3</th>\n",
       "      <th>plugin4</th>\n",
       "      <th>plugin5</th>\n",
       "      <th>plugin6</th>\n",
       "    </tr>\n",
       "    <tr>\n",
       "      <th>id</th>\n",
       "      <th>name</th>\n",
       "      <th></th>\n",
       "      <th></th>\n",
       "      <th></th>\n",
       "      <th></th>\n",
       "      <th></th>\n",
       "      <th></th>\n",
       "    </tr>\n",
       "  </thead>\n",
       "  <tbody>\n",
       "    <tr>\n",
       "      <th>5299</th>\n",
       "      <th>plexi*dly*</th>\n",
       "      <td>74.0</td>\n",
       "      <td>102.0</td>\n",
       "      <td>55.0</td>\n",
       "      <td>107.0</td>\n",
       "      <td>107.0</td>\n",
       "      <td>107.0</td>\n",
       "    </tr>\n",
       "    <tr>\n",
       "      <th>5300</th>\n",
       "      <th>HB*Boston3</th>\n",
       "      <td>31.0</td>\n",
       "      <td>102.0</td>\n",
       "      <td>33.0</td>\n",
       "      <td>107.0</td>\n",
       "      <td>107.0</td>\n",
       "      <td>107.0</td>\n",
       "    </tr>\n",
       "    <tr>\n",
       "      <th>5301</th>\n",
       "      <th>_Clean****</th>\n",
       "      <td>24.0</td>\n",
       "      <td>31.0</td>\n",
       "      <td>28.0</td>\n",
       "      <td>107.0</td>\n",
       "      <td>107.0</td>\n",
       "      <td>107.0</td>\n",
       "    </tr>\n",
       "    <tr>\n",
       "      <th>5303</th>\n",
       "      <th>_2tone****</th>\n",
       "      <td>72.0</td>\n",
       "      <td>57.0</td>\n",
       "      <td>96.0</td>\n",
       "      <td>107.0</td>\n",
       "      <td>107.0</td>\n",
       "      <td>107.0</td>\n",
       "    </tr>\n",
       "    <tr>\n",
       "      <th>5304</th>\n",
       "      <th>Numb______</th>\n",
       "      <td>81.0</td>\n",
       "      <td>57.0</td>\n",
       "      <td>100.0</td>\n",
       "      <td>107.0</td>\n",
       "      <td>107.0</td>\n",
       "      <td>107.0</td>\n",
       "    </tr>\n",
       "  </tbody>\n",
       "</table>\n",
       "</div>"
      ],
      "text/plain": [
       "                 plugin1  plugin2  plugin3  plugin4  plugin5  plugin6\n",
       "id   name                                                            \n",
       "5299 plexi*dly*     74.0    102.0     55.0    107.0    107.0    107.0\n",
       "5300 HB*Boston3     31.0    102.0     33.0    107.0    107.0    107.0\n",
       "5301 _Clean****     24.0     31.0     28.0    107.0    107.0    107.0\n",
       "5303 _2tone****     72.0     57.0     96.0    107.0    107.0    107.0\n",
       "5304 Numb______     81.0     57.0    100.0    107.0    107.0    107.0"
      ]
     },
     "execution_count": 7,
     "metadata": {},
     "output_type": "execute_result"
    }
   ],
   "source": [
    "d = d[(d['plugin1'] != 107) & (d['plugin2'] != 107) & (d['plugin3'] != 107)]\n",
    "\n",
    "print('Total of patches with more then two plugins:', len(d))\n",
    "d.head()"
   ]
  },
  {
   "cell_type": "markdown",
   "metadata": {},
   "source": [
    "## Remove duplicates"
   ]
  },
  {
   "cell_type": "code",
   "execution_count": 8,
   "metadata": {},
   "outputs": [
    {
     "name": "stdout",
     "output_type": "stream",
     "text": [
      "Total of patches after remove duplicated presets: 2162\n"
     ]
    },
    {
     "data": {
      "text/html": [
       "<div>\n",
       "<style scoped>\n",
       "    .dataframe tbody tr th:only-of-type {\n",
       "        vertical-align: middle;\n",
       "    }\n",
       "\n",
       "    .dataframe tbody tr th {\n",
       "        vertical-align: top;\n",
       "    }\n",
       "\n",
       "    .dataframe thead th {\n",
       "        text-align: right;\n",
       "    }\n",
       "</style>\n",
       "<table border=\"1\" class=\"dataframe\">\n",
       "  <thead>\n",
       "    <tr style=\"text-align: right;\">\n",
       "      <th></th>\n",
       "      <th></th>\n",
       "      <th>plugin1</th>\n",
       "      <th>plugin2</th>\n",
       "      <th>plugin3</th>\n",
       "      <th>plugin4</th>\n",
       "      <th>plugin5</th>\n",
       "      <th>plugin6</th>\n",
       "    </tr>\n",
       "    <tr>\n",
       "      <th>id</th>\n",
       "      <th>name</th>\n",
       "      <th></th>\n",
       "      <th></th>\n",
       "      <th></th>\n",
       "      <th></th>\n",
       "      <th></th>\n",
       "      <th></th>\n",
       "    </tr>\n",
       "  </thead>\n",
       "  <tbody>\n",
       "    <tr>\n",
       "      <th>5299</th>\n",
       "      <th>plexi*dly*</th>\n",
       "      <td>74.0</td>\n",
       "      <td>102.0</td>\n",
       "      <td>55.0</td>\n",
       "      <td>107.0</td>\n",
       "      <td>107.0</td>\n",
       "      <td>107.0</td>\n",
       "    </tr>\n",
       "    <tr>\n",
       "      <th>5300</th>\n",
       "      <th>HB*Boston3</th>\n",
       "      <td>31.0</td>\n",
       "      <td>102.0</td>\n",
       "      <td>33.0</td>\n",
       "      <td>107.0</td>\n",
       "      <td>107.0</td>\n",
       "      <td>107.0</td>\n",
       "    </tr>\n",
       "    <tr>\n",
       "      <th>5301</th>\n",
       "      <th>_Clean****</th>\n",
       "      <td>24.0</td>\n",
       "      <td>31.0</td>\n",
       "      <td>28.0</td>\n",
       "      <td>107.0</td>\n",
       "      <td>107.0</td>\n",
       "      <td>107.0</td>\n",
       "    </tr>\n",
       "    <tr>\n",
       "      <th>5303</th>\n",
       "      <th>_2tone****</th>\n",
       "      <td>72.0</td>\n",
       "      <td>57.0</td>\n",
       "      <td>96.0</td>\n",
       "      <td>107.0</td>\n",
       "      <td>107.0</td>\n",
       "      <td>107.0</td>\n",
       "    </tr>\n",
       "    <tr>\n",
       "      <th>5304</th>\n",
       "      <th>Numb______</th>\n",
       "      <td>81.0</td>\n",
       "      <td>57.0</td>\n",
       "      <td>100.0</td>\n",
       "      <td>107.0</td>\n",
       "      <td>107.0</td>\n",
       "      <td>107.0</td>\n",
       "    </tr>\n",
       "  </tbody>\n",
       "</table>\n",
       "</div>"
      ],
      "text/plain": [
       "                 plugin1  plugin2  plugin3  plugin4  plugin5  plugin6\n",
       "id   name                                                            \n",
       "5299 plexi*dly*     74.0    102.0     55.0    107.0    107.0    107.0\n",
       "5300 HB*Boston3     31.0    102.0     33.0    107.0    107.0    107.0\n",
       "5301 _Clean****     24.0     31.0     28.0    107.0    107.0    107.0\n",
       "5303 _2tone****     72.0     57.0     96.0    107.0    107.0    107.0\n",
       "5304 Numb______     81.0     57.0    100.0    107.0    107.0    107.0"
      ]
     },
     "execution_count": 8,
     "metadata": {},
     "output_type": "execute_result"
    }
   ],
   "source": [
    "d = d.drop_duplicates()\n",
    "print('Total of patches after remove duplicated presets:', len(d))\n",
    "\n",
    "d.head()"
   ]
  },
  {
   "cell_type": "markdown",
   "metadata": {},
   "source": [
    "## Remove patches with all plugins are equals"
   ]
  },
  {
   "cell_type": "code",
   "execution_count": 9,
   "metadata": {},
   "outputs": [
    {
     "name": "stdout",
     "output_type": "stream",
     "text": [
      "2161 unique patches - disconsidering parameters\n"
     ]
    }
   ],
   "source": [
    "import operator\n",
    "import functools\n",
    "\n",
    "def columns_same_effect(effect):\n",
    "    columns = ['plugin{}'.format(i) for i in range(1, 7)]\n",
    "    #print([d[column] == str(effect) for column in columns])\n",
    "    return functools.reduce(operator.and_, [d[column] == effect for column in columns])\n",
    "\n",
    "# Remove effects with all effects equals\n",
    "for i in range(117):\n",
    "    d = d[~columns_same_effect(i)]\n",
    "\n",
    "print(len(d), 'unique patches - disconsidering parameters')"
   ]
  },
  {
   "cell_type": "markdown",
   "metadata": {},
   "source": [
    "## Save"
   ]
  },
  {
   "cell_type": "code",
   "execution_count": 10,
   "metadata": {},
   "outputs": [],
   "source": [
    "d.to_csv('data/patches-filtered.csv')"
   ]
  }
 ],
 "metadata": {
  "kernelspec": {
   "display_name": "Python 3",
   "language": "python",
   "name": "python3"
  },
  "language_info": {
   "codemirror_mode": {
    "name": "ipython",
    "version": 3
   },
   "file_extension": ".py",
   "mimetype": "text/x-python",
   "name": "python",
   "nbconvert_exporter": "python",
   "pygments_lexer": "ipython3",
   "version": "3.6.7"
  }
 },
 "nbformat": 4,
 "nbformat_minor": 2
}
